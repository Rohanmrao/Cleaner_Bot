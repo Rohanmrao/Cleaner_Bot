{
  "cells": [
    {
      "cell_type": "code",
      "execution_count": 1,
      "metadata": {
        "colab": {
          "base_uri": "https://localhost:8080/"
        },
        "id": "35BJmtVpAP_n",
        "outputId": "ca883bfa-f4c0-405a-d682-22a9e3525ed1"
      },
      "outputs": [
        {
          "output_type": "stream",
          "name": "stdout",
          "text": [
            "\u001b[2K     \u001b[90m━━━━━━━━━━━━━━━━━━━━━━━━━━━━━━━━━━━━━━\u001b[0m \u001b[32m577.3/577.3 KB\u001b[0m \u001b[31m15.6 MB/s\u001b[0m eta \u001b[36m0:00:00\u001b[0m\n",
            "\u001b[2K     \u001b[90m━━━━━━━━━━━━━━━━━━━━━━━━━━━━━━━━━━━━━━━━\u001b[0m \u001b[32m77.5/77.5 KB\u001b[0m \u001b[31m6.2 MB/s\u001b[0m eta \u001b[36m0:00:00\u001b[0m\n",
            "\u001b[2K     \u001b[90m━━━━━━━━━━━━━━━━━━━━━━━━━━━━━━━━━━━━━━━━\u001b[0m \u001b[32m3.4/3.4 MB\u001b[0m \u001b[31m71.6 MB/s\u001b[0m eta \u001b[36m0:00:00\u001b[0m\n",
            "\u001b[2K     \u001b[90m━━━━━━━━━━━━━━━━━━━━━━━━━━━━━━━━━━━━━━━━\u001b[0m \u001b[32m10.9/10.9 MB\u001b[0m \u001b[31m54.3 MB/s\u001b[0m eta \u001b[36m0:00:00\u001b[0m\n",
            "\u001b[2K     \u001b[90m━━━━━━━━━━━━━━━━━━━━━━━━━━━━━━━━━━━━━━\u001b[0m \u001b[32m203.8/203.8 KB\u001b[0m \u001b[31m18.5 MB/s\u001b[0m eta \u001b[36m0:00:00\u001b[0m\n",
            "\u001b[2K     \u001b[90m━━━━━━━━━━━━━━━━━━━━━━━━━━━━━━━━━━━━━━━━\u001b[0m \u001b[32m1.3/1.3 MB\u001b[0m \u001b[31m62.5 MB/s\u001b[0m eta \u001b[36m0:00:00\u001b[0m\n",
            "\u001b[2K     \u001b[90m━━━━━━━━━━━━━━━━━━━━━━━━━━━━━━━━━━━━━━\u001b[0m \u001b[32m128.6/128.6 KB\u001b[0m \u001b[31m17.6 MB/s\u001b[0m eta \u001b[36m0:00:00\u001b[0m\n",
            "\u001b[2K     \u001b[90m━━━━━━━━━━━━━━━━━━━━━━━━━━━━━━━━━━━━━━━\u001b[0m \u001b[32m10.3/10.3 MB\u001b[0m \u001b[31m110.7 MB/s\u001b[0m eta \u001b[36m0:00:00\u001b[0m\n",
            "\u001b[2K     \u001b[90m━━━━━━━━━━━━━━━━━━━━━━━━━━━━━━━━━━━━━━━━\u001b[0m \u001b[32m1.1/1.1 MB\u001b[0m \u001b[31m68.0 MB/s\u001b[0m eta \u001b[36m0:00:00\u001b[0m\n",
            "\u001b[2K     \u001b[90m━━━━━━━━━━━━━━━━━━━━━━━━━━━━━━━━━━━━━━━━\u001b[0m \u001b[32m88.3/88.3 KB\u001b[0m \u001b[31m12.9 MB/s\u001b[0m eta \u001b[36m0:00:00\u001b[0m\n",
            "\u001b[?25h  Preparing metadata (setup.py) ... \u001b[?25l\u001b[?25hdone\n",
            "\u001b[2K     \u001b[90m━━━━━━━━━━━━━━━━━━━━━━━━━━━━━━━━━━━━━━\u001b[0m \u001b[32m840.9/840.9 KB\u001b[0m \u001b[31m66.3 MB/s\u001b[0m eta \u001b[36m0:00:00\u001b[0m\n",
            "\u001b[2K     \u001b[90m━━━━━━━━━━━━━━━━━━━━━━━━━━━━━━━━━━━━━━\u001b[0m \u001b[32m128.0/128.0 KB\u001b[0m \u001b[31m19.0 MB/s\u001b[0m eta \u001b[36m0:00:00\u001b[0m\n",
            "\u001b[2K     \u001b[90m━━━━━━━━━━━━━━━━━━━━━━━━━━━━━━━━━━━━━━━━\u001b[0m \u001b[32m60.9/60.9 MB\u001b[0m \u001b[31m12.7 MB/s\u001b[0m eta \u001b[36m0:00:00\u001b[0m\n",
            "\u001b[2K     \u001b[90m━━━━━━━━━━━━━━━━━━━━━━━━━━━━━━━━━━━━━━\u001b[0m \u001b[32m238.9/238.9 KB\u001b[0m \u001b[31m25.5 MB/s\u001b[0m eta \u001b[36m0:00:00\u001b[0m\n",
            "\u001b[2K     \u001b[90m━━━━━━━━━━━━━━━━━━━━━━━━━━━━━━━━━━━━━━\u001b[0m \u001b[32m108.8/108.8 KB\u001b[0m \u001b[31m16.5 MB/s\u001b[0m eta \u001b[36m0:00:00\u001b[0m\n",
            "\u001b[2K     \u001b[90m━━━━━━━━━━━━━━━━━━━━━━━━━━━━━━━━━━━━━━━━\u001b[0m \u001b[32m3.1/3.1 MB\u001b[0m \u001b[31m85.6 MB/s\u001b[0m eta \u001b[36m0:00:00\u001b[0m\n",
            "\u001b[2K     \u001b[90m━━━━━━━━━━━━━━━━━━━━━━━━━━━━━━━━━━━━━━━━\u001b[0m \u001b[32m25.3/25.3 MB\u001b[0m \u001b[31m62.5 MB/s\u001b[0m eta \u001b[36m0:00:00\u001b[0m\n",
            "\u001b[2K     \u001b[90m━━━━━━━━━━━━━━━━━━━━━━━━━━━━━━━━━━━━━━━\u001b[0m \u001b[32m498.1/498.1 MB\u001b[0m \u001b[31m3.4 MB/s\u001b[0m eta \u001b[36m0:00:00\u001b[0m\n",
            "\u001b[2K     \u001b[90m━━━━━━━━━━━━━━━━━━━━━━━━━━━━━━━━━━━━━━━━\u001b[0m \u001b[32m1.4/1.4 MB\u001b[0m \u001b[31m84.5 MB/s\u001b[0m eta \u001b[36m0:00:00\u001b[0m\n",
            "\u001b[2K     \u001b[90m━━━━━━━━━━━━━━━━━━━━━━━━━━━━━━━━━━━━━━\u001b[0m \u001b[32m462.3/462.3 KB\u001b[0m \u001b[31m43.8 MB/s\u001b[0m eta \u001b[36m0:00:00\u001b[0m\n",
            "\u001b[2K     \u001b[90m━━━━━━━━━━━━━━━━━━━━━━━━━━━━━━━━━━━━━━━━\u001b[0m \u001b[32m42.6/42.6 KB\u001b[0m \u001b[31m5.3 MB/s\u001b[0m eta \u001b[36m0:00:00\u001b[0m\n",
            "\u001b[2K     \u001b[90m━━━━━━━━━━━━━━━━━━━━━━━━━━━━━━━━━━━━━━━━\u001b[0m \u001b[32m5.8/5.8 MB\u001b[0m \u001b[31m100.5 MB/s\u001b[0m eta \u001b[36m0:00:00\u001b[0m\n",
            "\u001b[2K     \u001b[90m━━━━━━━━━━━━━━━━━━━━━━━━━━━━━━━━━━━━━━━━\u001b[0m \u001b[32m40.9/40.9 KB\u001b[0m \u001b[31m5.5 MB/s\u001b[0m eta \u001b[36m0:00:00\u001b[0m\n",
            "\u001b[2K     \u001b[90m━━━━━━━━━━━━━━━━━━━━━━━━━━━━━━━━━━━━━━\u001b[0m \u001b[32m222.3/222.3 KB\u001b[0m \u001b[31m28.1 MB/s\u001b[0m eta \u001b[36m0:00:00\u001b[0m\n",
            "\u001b[?25h  Building wheel for fire (setup.py) ... \u001b[?25l\u001b[?25hdone\n",
            "\u001b[31mERROR: pip's dependency resolver does not currently take into account all the packages that are installed. This behaviour is the source of the following dependency conflicts.\n",
            "xarray 2022.12.0 requires packaging>=21.3, but you have packaging 20.9 which is incompatible.\n",
            "statsmodels 0.13.5 requires packaging>=21.3, but you have packaging 20.9 which is incompatible.\n",
            "plotnine 0.10.1 requires matplotlib>=3.5.0, but you have matplotlib 3.4.3 which is incompatible.\n",
            "mizani 0.8.1 requires matplotlib>=3.5.0, but you have matplotlib 3.4.3 which is incompatible.\u001b[0m\u001b[31m\n",
            "\u001b[0m"
          ]
        }
      ],
      "source": [
        "!pip install -q tflite-model-maker\n",
        "!pip install -q tflite-support"
      ]
    },
    {
      "cell_type": "markdown",
      "metadata": {
        "id": "prQ86DdtD317"
      },
      "source": [
        "Import the required packages."
      ]
    },
    {
      "cell_type": "code",
      "execution_count": 2,
      "metadata": {
        "id": "l4QQTXHHATDS",
        "colab": {
          "base_uri": "https://localhost:8080/"
        },
        "outputId": "9f5faa32-7d43-4805-8dcd-e76bb5926929"
      },
      "outputs": [
        {
          "output_type": "stream",
          "name": "stderr",
          "text": [
            "/usr/local/lib/python3.9/dist-packages/tensorflow_addons/utils/ensure_tf_install.py:53: UserWarning: Tensorflow Addons supports using Python ops for all Tensorflow versions above or equal to 2.9.0 and strictly below 2.12.0 (nightly versions are not supported). \n",
            " The versions of TensorFlow you are currently using is 2.8.4 and is not supported. \n",
            "Some things might work, some things might not.\n",
            "If you were to encounter a bug, do not file an issue.\n",
            "If you want to make sure you're using a tested and supported configuration, either change the TensorFlow version or the TensorFlow Addons's version. \n",
            "You can find the compatibility matrix in TensorFlow Addon's readme:\n",
            "https://github.com/tensorflow/addons\n",
            "  warnings.warn(\n"
          ]
        }
      ],
      "source": [
        "import numpy as np\n",
        "import os\n",
        "\n",
        "from tflite_model_maker.config import ExportFormat, QuantizationConfig\n",
        "from tflite_model_maker import model_spec\n",
        "from tflite_model_maker import object_detector\n",
        "\n",
        "from tflite_support import metadata\n",
        "\n",
        "import tensorflow as tf\n",
        "assert tf.__version__.startswith('2')\n",
        "\n",
        "tf.get_logger().setLevel('ERROR')\n",
        "from absl import logging\n",
        "logging.set_verbosity(logging.ERROR)"
      ]
    },
    {
      "cell_type": "code",
      "source": [
        "from google.colab import drive\n",
        "\n",
        "# This will prompt for authorization.\n",
        "drive.mount('/content/drive')\n",
        "\n"
      ],
      "metadata": {
        "colab": {
          "base_uri": "https://localhost:8080/"
        },
        "id": "0bJzy7RMledO",
        "outputId": "6e45bb4a-f16d-49ba-8000-54d372944431"
      },
      "execution_count": 3,
      "outputs": [
        {
          "output_type": "stream",
          "name": "stdout",
          "text": [
            "Mounted at /content/drive\n"
          ]
        }
      ]
    },
    {
      "cell_type": "code",
      "source": [
        "train_data = object_detector.DataLoader.from_pascal_voc(\n",
        "    '/content/drive/MyDrive/HashCode_Dataset/TRAIN',\n",
        "    '/content/drive/MyDrive/HashCode_Dataset/TRAIN',\n",
        "    ['Bottle', 'Paper']\n",
        ")\n",
        "\n",
        "val_data = object_detector.DataLoader.from_pascal_voc(\n",
        "    '/content/drive/MyDrive/HashCode_Dataset/VALIDATE',\n",
        "    '/content/drive/MyDrive/HashCode_Dataset/VALIDATE',\n",
        "    ['Bottle', 'Paper']\n",
        ")"
      ],
      "metadata": {
        "id": "a2zKe81gmgNc"
      },
      "execution_count": 5,
      "outputs": []
    },
    {
      "cell_type": "code",
      "execution_count": 6,
      "metadata": {
        "id": "GZOojrDHAY1J"
      },
      "outputs": [],
      "source": [
        "spec = model_spec.get('efficientdet_lite0')"
      ]
    },
    {
      "cell_type": "code",
      "execution_count": 7,
      "metadata": {
        "colab": {
          "base_uri": "https://localhost:8080/"
        },
        "id": "_MClfpsJAfda",
        "outputId": "3c623789-a638-4c16-b0bf-7dbf79309cdd"
      },
      "outputs": [
        {
          "output_type": "stream",
          "name": "stdout",
          "text": [
            "Epoch 1/35\n",
            "16/16 [==============================] - 87s 2s/step - det_loss: 1.7135 - cls_loss: 1.1069 - box_loss: 0.0121 - reg_l2_loss: 0.0629 - loss: 1.7764 - learning_rate: 0.0065 - gradient_norm: 2.6822 - val_det_loss: 1.5648 - val_cls_loss: 1.0668 - val_box_loss: 0.0100 - val_reg_l2_loss: 0.0629 - val_loss: 1.6277\n",
            "Epoch 2/35\n",
            "16/16 [==============================] - 34s 2s/step - det_loss: 1.5047 - cls_loss: 0.9742 - box_loss: 0.0106 - reg_l2_loss: 0.0630 - loss: 1.5677 - learning_rate: 0.0050 - gradient_norm: 2.8784 - val_det_loss: 1.2308 - val_cls_loss: 0.8075 - val_box_loss: 0.0085 - val_reg_l2_loss: 0.0630 - val_loss: 1.2937\n",
            "Epoch 3/35\n",
            "16/16 [==============================] - 37s 2s/step - det_loss: 1.2594 - cls_loss: 0.7731 - box_loss: 0.0097 - reg_l2_loss: 0.0630 - loss: 1.3224 - learning_rate: 0.0049 - gradient_norm: 3.7291 - val_det_loss: 0.9978 - val_cls_loss: 0.5811 - val_box_loss: 0.0083 - val_reg_l2_loss: 0.0630 - val_loss: 1.0607\n",
            "Epoch 4/35\n",
            "16/16 [==============================] - 33s 2s/step - det_loss: 1.0158 - cls_loss: 0.5786 - box_loss: 0.0087 - reg_l2_loss: 0.0630 - loss: 1.0788 - learning_rate: 0.0049 - gradient_norm: 3.6782 - val_det_loss: 0.8483 - val_cls_loss: 0.4848 - val_box_loss: 0.0073 - val_reg_l2_loss: 0.0630 - val_loss: 0.9112\n",
            "Epoch 5/35\n",
            "16/16 [==============================] - 53s 4s/step - det_loss: 0.8353 - cls_loss: 0.4828 - box_loss: 0.0071 - reg_l2_loss: 0.0630 - loss: 0.8983 - learning_rate: 0.0048 - gradient_norm: 4.3304 - val_det_loss: 0.6581 - val_cls_loss: 0.3725 - val_box_loss: 0.0057 - val_reg_l2_loss: 0.0630 - val_loss: 0.7211\n",
            "Epoch 6/35\n",
            "16/16 [==============================] - 37s 2s/step - det_loss: 0.7610 - cls_loss: 0.4349 - box_loss: 0.0065 - reg_l2_loss: 0.0630 - loss: 0.8240 - learning_rate: 0.0047 - gradient_norm: 4.2151 - val_det_loss: 0.6521 - val_cls_loss: 0.3379 - val_box_loss: 0.0063 - val_reg_l2_loss: 0.0630 - val_loss: 0.7152\n",
            "Epoch 7/35\n",
            "16/16 [==============================] - 36s 2s/step - det_loss: 0.7305 - cls_loss: 0.4272 - box_loss: 0.0061 - reg_l2_loss: 0.0630 - loss: 0.7936 - learning_rate: 0.0046 - gradient_norm: 4.6115 - val_det_loss: 0.4766 - val_cls_loss: 0.2749 - val_box_loss: 0.0040 - val_reg_l2_loss: 0.0630 - val_loss: 0.5396\n",
            "Epoch 8/35\n",
            "16/16 [==============================] - 38s 3s/step - det_loss: 0.6838 - cls_loss: 0.3938 - box_loss: 0.0058 - reg_l2_loss: 0.0630 - loss: 0.7468 - learning_rate: 0.0044 - gradient_norm: 4.5730 - val_det_loss: 0.5871 - val_cls_loss: 0.3583 - val_box_loss: 0.0046 - val_reg_l2_loss: 0.0631 - val_loss: 0.6502\n",
            "Epoch 9/35\n",
            "16/16 [==============================] - 35s 2s/step - det_loss: 0.5640 - cls_loss: 0.3425 - box_loss: 0.0044 - reg_l2_loss: 0.0631 - loss: 0.6270 - learning_rate: 0.0043 - gradient_norm: 3.9735 - val_det_loss: 0.4345 - val_cls_loss: 0.2777 - val_box_loss: 0.0031 - val_reg_l2_loss: 0.0631 - val_loss: 0.4976\n",
            "Epoch 10/35\n",
            "16/16 [==============================] - 47s 3s/step - det_loss: 0.5206 - cls_loss: 0.3144 - box_loss: 0.0041 - reg_l2_loss: 0.0631 - loss: 0.5836 - learning_rate: 0.0041 - gradient_norm: 3.8491 - val_det_loss: 0.4224 - val_cls_loss: 0.2566 - val_box_loss: 0.0033 - val_reg_l2_loss: 0.0631 - val_loss: 0.4854\n",
            "Epoch 11/35\n",
            "16/16 [==============================] - 33s 2s/step - det_loss: 0.4642 - cls_loss: 0.2841 - box_loss: 0.0036 - reg_l2_loss: 0.0631 - loss: 0.5272 - learning_rate: 0.0039 - gradient_norm: 3.4308 - val_det_loss: 0.3759 - val_cls_loss: 0.2376 - val_box_loss: 0.0028 - val_reg_l2_loss: 0.0631 - val_loss: 0.4389\n",
            "Epoch 12/35\n",
            "16/16 [==============================] - 37s 2s/step - det_loss: 0.4962 - cls_loss: 0.2953 - box_loss: 0.0040 - reg_l2_loss: 0.0631 - loss: 0.5593 - learning_rate: 0.0037 - gradient_norm: 3.8210 - val_det_loss: 0.3812 - val_cls_loss: 0.2301 - val_box_loss: 0.0030 - val_reg_l2_loss: 0.0631 - val_loss: 0.4443\n",
            "Epoch 13/35\n",
            "16/16 [==============================] - 35s 2s/step - det_loss: 0.4661 - cls_loss: 0.2837 - box_loss: 0.0036 - reg_l2_loss: 0.0631 - loss: 0.5292 - learning_rate: 0.0035 - gradient_norm: 3.9714 - val_det_loss: 0.3310 - val_cls_loss: 0.1987 - val_box_loss: 0.0026 - val_reg_l2_loss: 0.0631 - val_loss: 0.3941\n",
            "Epoch 14/35\n",
            "16/16 [==============================] - 37s 2s/step - det_loss: 0.4758 - cls_loss: 0.2870 - box_loss: 0.0038 - reg_l2_loss: 0.0631 - loss: 0.5389 - learning_rate: 0.0033 - gradient_norm: 3.8152 - val_det_loss: 0.3044 - val_cls_loss: 0.2055 - val_box_loss: 0.0020 - val_reg_l2_loss: 0.0631 - val_loss: 0.3675\n",
            "Epoch 15/35\n",
            "16/16 [==============================] - 44s 3s/step - det_loss: 0.4349 - cls_loss: 0.2634 - box_loss: 0.0034 - reg_l2_loss: 0.0631 - loss: 0.4980 - learning_rate: 0.0031 - gradient_norm: 3.4694 - val_det_loss: 0.2944 - val_cls_loss: 0.2097 - val_box_loss: 0.0017 - val_reg_l2_loss: 0.0631 - val_loss: 0.3575\n",
            "Epoch 16/35\n",
            "16/16 [==============================] - 34s 2s/step - det_loss: 0.4062 - cls_loss: 0.2494 - box_loss: 0.0031 - reg_l2_loss: 0.0631 - loss: 0.4693 - learning_rate: 0.0028 - gradient_norm: 3.5536 - val_det_loss: 0.3043 - val_cls_loss: 0.2056 - val_box_loss: 0.0020 - val_reg_l2_loss: 0.0631 - val_loss: 0.3674\n",
            "Epoch 17/35\n",
            "16/16 [==============================] - 38s 3s/step - det_loss: 0.3752 - cls_loss: 0.2324 - box_loss: 0.0029 - reg_l2_loss: 0.0631 - loss: 0.4383 - learning_rate: 0.0026 - gradient_norm: 3.2814 - val_det_loss: 0.2755 - val_cls_loss: 0.1839 - val_box_loss: 0.0018 - val_reg_l2_loss: 0.0631 - val_loss: 0.3386\n",
            "Epoch 18/35\n",
            "16/16 [==============================] - 35s 2s/step - det_loss: 0.3527 - cls_loss: 0.2225 - box_loss: 0.0026 - reg_l2_loss: 0.0631 - loss: 0.4158 - learning_rate: 0.0024 - gradient_norm: 3.0418 - val_det_loss: 0.2526 - val_cls_loss: 0.1733 - val_box_loss: 0.0016 - val_reg_l2_loss: 0.0631 - val_loss: 0.3158\n",
            "Epoch 19/35\n",
            "16/16 [==============================] - 40s 3s/step - det_loss: 0.3814 - cls_loss: 0.2319 - box_loss: 0.0030 - reg_l2_loss: 0.0631 - loss: 0.4445 - learning_rate: 0.0022 - gradient_norm: 3.4698 - val_det_loss: 0.2784 - val_cls_loss: 0.1898 - val_box_loss: 0.0018 - val_reg_l2_loss: 0.0631 - val_loss: 0.3415\n",
            "Epoch 20/35\n",
            "16/16 [==============================] - 45s 3s/step - det_loss: 0.3595 - cls_loss: 0.2194 - box_loss: 0.0028 - reg_l2_loss: 0.0631 - loss: 0.4227 - learning_rate: 0.0019 - gradient_norm: 3.5879 - val_det_loss: 0.2615 - val_cls_loss: 0.1734 - val_box_loss: 0.0018 - val_reg_l2_loss: 0.0631 - val_loss: 0.3246\n",
            "Epoch 21/35\n",
            "16/16 [==============================] - 35s 2s/step - det_loss: 0.3601 - cls_loss: 0.2264 - box_loss: 0.0027 - reg_l2_loss: 0.0631 - loss: 0.4232 - learning_rate: 0.0017 - gradient_norm: 3.0789 - val_det_loss: 0.2714 - val_cls_loss: 0.1814 - val_box_loss: 0.0018 - val_reg_l2_loss: 0.0631 - val_loss: 0.3345\n",
            "Epoch 22/35\n",
            "16/16 [==============================] - 36s 2s/step - det_loss: 0.3408 - cls_loss: 0.2091 - box_loss: 0.0026 - reg_l2_loss: 0.0631 - loss: 0.4040 - learning_rate: 0.0015 - gradient_norm: 3.0586 - val_det_loss: 0.2507 - val_cls_loss: 0.1784 - val_box_loss: 0.0014 - val_reg_l2_loss: 0.0631 - val_loss: 0.3139\n",
            "Epoch 23/35\n",
            "16/16 [==============================] - 37s 2s/step - det_loss: 0.3637 - cls_loss: 0.2189 - box_loss: 0.0029 - reg_l2_loss: 0.0631 - loss: 0.4268 - learning_rate: 0.0013 - gradient_norm: 3.4278 - val_det_loss: 0.2318 - val_cls_loss: 0.1649 - val_box_loss: 0.0013 - val_reg_l2_loss: 0.0631 - val_loss: 0.2949\n",
            "Epoch 24/35\n",
            "16/16 [==============================] - 36s 2s/step - det_loss: 0.3020 - cls_loss: 0.1930 - box_loss: 0.0022 - reg_l2_loss: 0.0631 - loss: 0.3651 - learning_rate: 0.0011 - gradient_norm: 3.1528 - val_det_loss: 0.3601 - val_cls_loss: 0.2374 - val_box_loss: 0.0025 - val_reg_l2_loss: 0.0631 - val_loss: 0.4232\n",
            "Epoch 25/35\n",
            "16/16 [==============================] - 46s 3s/step - det_loss: 0.3288 - cls_loss: 0.2041 - box_loss: 0.0025 - reg_l2_loss: 0.0631 - loss: 0.3920 - learning_rate: 9.0415e-04 - gradient_norm: 3.1167 - val_det_loss: 0.3467 - val_cls_loss: 0.2399 - val_box_loss: 0.0021 - val_reg_l2_loss: 0.0631 - val_loss: 0.4098\n",
            "Epoch 26/35\n",
            "16/16 [==============================] - 35s 2s/step - det_loss: 0.3220 - cls_loss: 0.2012 - box_loss: 0.0024 - reg_l2_loss: 0.0631 - loss: 0.3851 - learning_rate: 7.3351e-04 - gradient_norm: 2.9065 - val_det_loss: 0.3345 - val_cls_loss: 0.2240 - val_box_loss: 0.0022 - val_reg_l2_loss: 0.0631 - val_loss: 0.3976\n",
            "Epoch 27/35\n",
            "16/16 [==============================] - 37s 2s/step - det_loss: 0.3264 - cls_loss: 0.1969 - box_loss: 0.0026 - reg_l2_loss: 0.0631 - loss: 0.3895 - learning_rate: 5.7795e-04 - gradient_norm: 2.9539 - val_det_loss: 0.3202 - val_cls_loss: 0.2162 - val_box_loss: 0.0021 - val_reg_l2_loss: 0.0631 - val_loss: 0.3833\n",
            "Epoch 28/35\n",
            "16/16 [==============================] - 36s 2s/step - det_loss: 0.2771 - cls_loss: 0.1835 - box_loss: 0.0019 - reg_l2_loss: 0.0631 - loss: 0.3402 - learning_rate: 4.3878e-04 - gradient_norm: 2.7963 - val_det_loss: 0.2925 - val_cls_loss: 0.2006 - val_box_loss: 0.0018 - val_reg_l2_loss: 0.0631 - val_loss: 0.3556\n",
            "Epoch 29/35\n",
            "16/16 [==============================] - 36s 2s/step - det_loss: 0.2889 - cls_loss: 0.1874 - box_loss: 0.0020 - reg_l2_loss: 0.0631 - loss: 0.3520 - learning_rate: 3.1720e-04 - gradient_norm: 2.5613 - val_det_loss: 0.2748 - val_cls_loss: 0.1948 - val_box_loss: 0.0016 - val_reg_l2_loss: 0.0631 - val_loss: 0.3379\n",
            "Epoch 30/35\n",
            "16/16 [==============================] - 49s 3s/step - det_loss: 0.3147 - cls_loss: 0.1922 - box_loss: 0.0025 - reg_l2_loss: 0.0631 - loss: 0.3779 - learning_rate: 2.1424e-04 - gradient_norm: 2.8079 - val_det_loss: 0.2735 - val_cls_loss: 0.1939 - val_box_loss: 0.0016 - val_reg_l2_loss: 0.0631 - val_loss: 0.3366\n",
            "Epoch 31/35\n",
            "16/16 [==============================] - 35s 2s/step - det_loss: 0.3369 - cls_loss: 0.2089 - box_loss: 0.0026 - reg_l2_loss: 0.0631 - loss: 0.4000 - learning_rate: 1.3078e-04 - gradient_norm: 3.3041 - val_det_loss: 0.2735 - val_cls_loss: 0.1930 - val_box_loss: 0.0016 - val_reg_l2_loss: 0.0631 - val_loss: 0.3366\n",
            "Epoch 32/35\n",
            "16/16 [==============================] - 36s 2s/step - det_loss: 0.3686 - cls_loss: 0.2217 - box_loss: 0.0029 - reg_l2_loss: 0.0631 - loss: 0.4317 - learning_rate: 6.7537e-05 - gradient_norm: 4.3827 - val_det_loss: 0.2748 - val_cls_loss: 0.1943 - val_box_loss: 0.0016 - val_reg_l2_loss: 0.0631 - val_loss: 0.3380\n",
            "Epoch 33/35\n",
            "16/16 [==============================] - 36s 2s/step - det_loss: 0.3713 - cls_loss: 0.2233 - box_loss: 0.0030 - reg_l2_loss: 0.0631 - loss: 0.4344 - learning_rate: 2.5046e-05 - gradient_norm: 3.1645 - val_det_loss: 0.2766 - val_cls_loss: 0.1964 - val_box_loss: 0.0016 - val_reg_l2_loss: 0.0631 - val_loss: 0.3397\n",
            "Epoch 34/35\n",
            "16/16 [==============================] - 35s 2s/step - det_loss: 0.3120 - cls_loss: 0.1938 - box_loss: 0.0024 - reg_l2_loss: 0.0631 - loss: 0.3751 - learning_rate: 3.6694e-06 - gradient_norm: 3.2872 - val_det_loss: 0.2702 - val_cls_loss: 0.1927 - val_box_loss: 0.0016 - val_reg_l2_loss: 0.0631 - val_loss: 0.3333\n",
            "Epoch 35/35\n",
            "16/16 [==============================] - 46s 3s/step - det_loss: 0.3216 - cls_loss: 0.1890 - box_loss: 0.0027 - reg_l2_loss: 0.0631 - loss: 0.3847 - learning_rate: 3.5910e-06 - gradient_norm: 3.2857 - val_det_loss: 0.2618 - val_cls_loss: 0.1875 - val_box_loss: 0.0015 - val_reg_l2_loss: 0.0631 - val_loss: 0.3250\n"
          ]
        }
      ],
      "source": [
        "model = object_detector.create(train_data, model_spec=spec, batch_size=4, train_whole_model=True, epochs=35, validation_data=val_data)"
      ]
    },
    {
      "cell_type": "code",
      "execution_count": 8,
      "metadata": {
        "colab": {
          "base_uri": "https://localhost:8080/"
        },
        "id": "OUqEpcYwAg8L",
        "outputId": "4105e398-ddba-4106-cc41-60710d74a8e3"
      },
      "outputs": [
        {
          "output_type": "stream",
          "name": "stdout",
          "text": [
            "\r1/1 [==============================] - 11s 11s/step\n",
            "\n"
          ]
        },
        {
          "output_type": "execute_result",
          "data": {
            "text/plain": [
              "{'AP': 0.69703984,\n",
              " 'AP50': 0.96198255,\n",
              " 'AP75': 0.88198066,\n",
              " 'APs': -1.0,\n",
              " 'APm': -1.0,\n",
              " 'APl': 0.69703984,\n",
              " 'ARmax1': 0.70064104,\n",
              " 'ARmax10': 0.76816237,\n",
              " 'ARmax100': 0.76816237,\n",
              " 'ARs': -1.0,\n",
              " 'ARm': -1.0,\n",
              " 'ARl': 0.76816237,\n",
              " 'AP_/Bottle': 0.6124144,\n",
              " 'AP_/Paper': 0.78166527}"
            ]
          },
          "metadata": {},
          "execution_count": 8
        }
      ],
      "source": [
        "model.evaluate(val_data)"
      ]
    },
    {
      "cell_type": "code",
      "execution_count": 9,
      "metadata": {
        "id": "_u3eFxoBAiqE"
      },
      "outputs": [],
      "source": [
        "model.export(export_dir='.', tflite_filename='android.tflite')"
      ]
    },
    {
      "cell_type": "code",
      "execution_count": 10,
      "metadata": {
        "colab": {
          "base_uri": "https://localhost:8080/"
        },
        "id": "Jbl8z9_wBPlr",
        "outputId": "68b824e3-026b-4d51-9a35-1124c664f925"
      },
      "outputs": [
        {
          "output_type": "stream",
          "name": "stdout",
          "text": [
            "17/17 [==============================] - 56s 3s/step\n",
            "\n"
          ]
        },
        {
          "output_type": "execute_result",
          "data": {
            "text/plain": [
              "{'AP': 0.67407554,\n",
              " 'AP50': 0.94699645,\n",
              " 'AP75': 0.87835926,\n",
              " 'APs': -1.0,\n",
              " 'APm': -1.0,\n",
              " 'APl': 0.67407554,\n",
              " 'ARmax1': 0.6940171,\n",
              " 'ARmax10': 0.71068376,\n",
              " 'ARmax100': 0.71068376,\n",
              " 'ARs': -1.0,\n",
              " 'ARm': -1.0,\n",
              " 'ARl': 0.71068376,\n",
              " 'AP_/Bottle': 0.59481,\n",
              " 'AP_/Paper': 0.753341}"
            ]
          },
          "metadata": {},
          "execution_count": 10
        }
      ],
      "source": [
        "model.evaluate_tflite('android.tflite', val_data)"
      ]
    },
    {
      "cell_type": "code",
      "execution_count": 11,
      "metadata": {
        "colab": {
          "base_uri": "https://localhost:8080/",
          "height": 17
        },
        "id": "v7zgUkdOUUnD",
        "outputId": "fa4f92e3-24f3-404c-ebbf-14331e34411a"
      },
      "outputs": [
        {
          "output_type": "display_data",
          "data": {
            "text/plain": [
              "<IPython.core.display.Javascript object>"
            ],
            "application/javascript": [
              "\n",
              "    async function download(id, filename, size) {\n",
              "      if (!google.colab.kernel.accessAllowed) {\n",
              "        return;\n",
              "      }\n",
              "      const div = document.createElement('div');\n",
              "      const label = document.createElement('label');\n",
              "      label.textContent = `Downloading \"${filename}\": `;\n",
              "      div.appendChild(label);\n",
              "      const progress = document.createElement('progress');\n",
              "      progress.max = size;\n",
              "      div.appendChild(progress);\n",
              "      document.body.appendChild(div);\n",
              "\n",
              "      const buffers = [];\n",
              "      let downloaded = 0;\n",
              "\n",
              "      const channel = await google.colab.kernel.comms.open(id);\n",
              "      // Send a message to notify the kernel that we're ready.\n",
              "      channel.send({})\n",
              "\n",
              "      for await (const message of channel.messages) {\n",
              "        // Send a message to notify the kernel that we're ready.\n",
              "        channel.send({})\n",
              "        if (message.buffers) {\n",
              "          for (const buffer of message.buffers) {\n",
              "            buffers.push(buffer);\n",
              "            downloaded += buffer.byteLength;\n",
              "            progress.value = downloaded;\n",
              "          }\n",
              "        }\n",
              "      }\n",
              "      const blob = new Blob(buffers, {type: 'application/binary'});\n",
              "      const a = document.createElement('a');\n",
              "      a.href = window.URL.createObjectURL(blob);\n",
              "      a.download = filename;\n",
              "      div.appendChild(a);\n",
              "      a.click();\n",
              "      div.remove();\n",
              "    }\n",
              "  "
            ]
          },
          "metadata": {}
        },
        {
          "output_type": "display_data",
          "data": {
            "text/plain": [
              "<IPython.core.display.Javascript object>"
            ],
            "application/javascript": [
              "download(\"download_9f82a81c-0c95-4b1c-9ce2-4320dbcbff6b\", \"android.tflite\", 4444719)"
            ]
          },
          "metadata": {}
        }
      ],
      "source": [
        "# Download the TFLite model to your local computer.\n",
        "from google.colab import files\n",
        "files.download('android.tflite')"
      ]
    },
    {
      "cell_type": "code",
      "source": [
        "# Load the trained TFLite model and define some visualization functions\n",
        "\n",
        "import platform\n",
        "from typing import List, NamedTuple\n",
        "import json\n",
        "\n",
        "import cv2\n",
        "\n",
        "Interpreter = tf.lite.Interpreter\n",
        "load_delegate = tf.lite.experimental.load_delegate\n",
        "\n",
        "# pylint: enable=g-import-not-at-top\n",
        "\n",
        "\n",
        "class ObjectDetectorOptions(NamedTuple):\n",
        "  \"\"\"A config to initialize an object detector.\"\"\"\n",
        "\n",
        "  enable_edgetpu: bool = False\n",
        "  \"\"\"Enable the model to run on EdgeTPU.\"\"\"\n",
        "\n",
        "  label_allow_list: List[str] = None\n",
        "  \"\"\"The optional allow list of labels.\"\"\"\n",
        "\n",
        "  label_deny_list: List[str] = None\n",
        "  \"\"\"The optional deny list of labels.\"\"\"\n",
        "\n",
        "  max_results: int = -1\n",
        "  \"\"\"The maximum number of top-scored detection results to return.\"\"\"\n",
        "\n",
        "  num_threads: int = 1\n",
        "  \"\"\"The number of CPU threads to be used.\"\"\"\n",
        "\n",
        "  score_threshold: float = 0.0\n",
        "  \"\"\"The score threshold of detection results to return.\"\"\"\n",
        "\n",
        "\n",
        "class Rect(NamedTuple):\n",
        "  \"\"\"A rectangle in 2D space.\"\"\"\n",
        "  left: float\n",
        "  top: float\n",
        "  right: float\n",
        "  bottom: float\n",
        "\n",
        "\n",
        "class Category(NamedTuple):\n",
        "  \"\"\"A result of a classification task.\"\"\"\n",
        "  label: str\n",
        "  score: float\n",
        "  index: int\n",
        "\n",
        "\n",
        "class Detection(NamedTuple):\n",
        "  \"\"\"A detected object as the result of an ObjectDetector.\"\"\"\n",
        "  bounding_box: Rect\n",
        "  categories: List[Category]\n",
        "\n",
        "\n",
        "def edgetpu_lib_name():\n",
        "  \"\"\"Returns the library name of EdgeTPU in the current platform.\"\"\"\n",
        "  return {\n",
        "      'Darwin': 'libedgetpu.1.dylib',\n",
        "      'Linux': 'libedgetpu.so.1',\n",
        "      'Windows': 'edgetpu.dll',\n",
        "  }.get(platform.system(), None)\n",
        "\n",
        "\n",
        "class ObjectDetector:\n",
        "  \"\"\"A wrapper class for a TFLite object detection model.\"\"\"\n",
        "\n",
        "  _OUTPUT_LOCATION_NAME = 'location'\n",
        "  _OUTPUT_CATEGORY_NAME = 'category'\n",
        "  _OUTPUT_SCORE_NAME = 'score'\n",
        "  _OUTPUT_NUMBER_NAME = 'number of detections'\n",
        "\n",
        "  def __init__(\n",
        "      self,\n",
        "      model_path: str,\n",
        "      options: ObjectDetectorOptions = ObjectDetectorOptions()\n",
        "  ) -> None:\n",
        "    \"\"\"Initialize a TFLite object detection model.\n",
        "    Args:\n",
        "        model_path: Path to the TFLite model.\n",
        "        options: The config to initialize an object detector. (Optional)\n",
        "    Raises:\n",
        "        ValueError: If the TFLite model is invalid.\n",
        "        OSError: If the current OS isn't supported by EdgeTPU.\n",
        "    \"\"\"\n",
        "\n",
        "    # Load metadata from model.\n",
        "    displayer = metadata.MetadataDisplayer.with_model_file(model_path)\n",
        "\n",
        "    # Save model metadata for preprocessing later.\n",
        "    model_metadata = json.loads(displayer.get_metadata_json())\n",
        "    process_units = model_metadata['subgraph_metadata'][0]['input_tensor_metadata'][0]['process_units']\n",
        "    mean = 0.0\n",
        "    std = 1.0\n",
        "    for option in process_units:\n",
        "      if option['options_type'] == 'NormalizationOptions':\n",
        "        mean = option['options']['mean'][0]\n",
        "        std = option['options']['std'][0]\n",
        "    self._mean = mean\n",
        "    self._std = std\n",
        "\n",
        "    # Load label list from metadata.\n",
        "    file_name = displayer.get_packed_associated_file_list()[0]\n",
        "    label_map_file = displayer.get_associated_file_buffer(file_name).decode()\n",
        "    label_list = list(filter(lambda x: len(x) > 0, label_map_file.splitlines()))\n",
        "    self._label_list = label_list\n",
        "\n",
        "    # Initialize TFLite model.\n",
        "    if options.enable_edgetpu:\n",
        "      if edgetpu_lib_name() is None:\n",
        "        raise OSError(\"The current OS isn't supported by Coral EdgeTPU.\")\n",
        "      interpreter = Interpreter(\n",
        "          model_path=model_path,\n",
        "          experimental_delegates=[load_delegate(edgetpu_lib_name())],\n",
        "          num_threads=options.num_threads)\n",
        "    else:\n",
        "      interpreter = Interpreter(\n",
        "          model_path=model_path, num_threads=options.num_threads)\n",
        "\n",
        "    interpreter.allocate_tensors()\n",
        "    input_detail = interpreter.get_input_details()[0]\n",
        "\n",
        "    # From TensorFlow 2.6, the order of the outputs become undefined.\n",
        "    # Therefore we need to sort the tensor indices of TFLite outputs and to know\n",
        "    # exactly the meaning of each output tensor. For example, if\n",
        "    # output indices are [601, 599, 598, 600], tensor names and indices aligned\n",
        "    # are:\n",
        "    #   - location: 598\n",
        "    #   - category: 599\n",
        "    #   - score: 600\n",
        "    #   - detection_count: 601\n",
        "    # because of the op's ports of TFLITE_DETECTION_POST_PROCESS\n",
        "    # (https://github.com/tensorflow/tensorflow/blob/a4fe268ea084e7d323133ed7b986e0ae259a2bc7/tensorflow/lite/kernels/detection_postprocess.cc#L47-L50).\n",
        "    sorted_output_indices = sorted(\n",
        "        [output['index'] for output in interpreter.get_output_details()])\n",
        "    self._output_indices = {\n",
        "        self._OUTPUT_LOCATION_NAME: sorted_output_indices[0],\n",
        "        self._OUTPUT_CATEGORY_NAME: sorted_output_indices[1],\n",
        "        self._OUTPUT_SCORE_NAME: sorted_output_indices[2],\n",
        "        self._OUTPUT_NUMBER_NAME: sorted_output_indices[3],\n",
        "    }\n",
        "\n",
        "    self._input_size = input_detail['shape'][2], input_detail['shape'][1]\n",
        "    self._is_quantized_input = input_detail['dtype'] == np.uint8\n",
        "    self._interpreter = interpreter\n",
        "    self._options = options\n",
        "\n",
        "  def detect(self, input_image: np.ndarray) -> List[Detection]:\n",
        "    \"\"\"Run detection on an input image.\n",
        "    Args:\n",
        "        input_image: A [height, width, 3] RGB image. Note that height and width\n",
        "          can be anything since the image will be immediately resized according\n",
        "          to the needs of the model within this function.\n",
        "    Returns:\n",
        "        A Person instance.\n",
        "    \"\"\"\n",
        "    image_height, image_width, _ = input_image.shape\n",
        "\n",
        "    input_tensor = self._preprocess(input_image)\n",
        "\n",
        "    self._set_input_tensor(input_tensor)\n",
        "    self._interpreter.invoke()\n",
        "\n",
        "    # Get all output details\n",
        "    boxes = self._get_output_tensor(self._OUTPUT_LOCATION_NAME)\n",
        "    classes = self._get_output_tensor(self._OUTPUT_CATEGORY_NAME)\n",
        "    scores = self._get_output_tensor(self._OUTPUT_SCORE_NAME)\n",
        "    count = int(self._get_output_tensor(self._OUTPUT_NUMBER_NAME))\n",
        "\n",
        "    return self._postprocess(boxes, classes, scores, count, image_width,\n",
        "                             image_height)\n",
        "\n",
        "  def _preprocess(self, input_image: np.ndarray) -> np.ndarray:\n",
        "    \"\"\"Preprocess the input image as required by the TFLite model.\"\"\"\n",
        "\n",
        "    # Resize the input\n",
        "    input_tensor = cv2.resize(input_image, self._input_size)\n",
        "\n",
        "    # Normalize the input if it's a float model (aka. not quantized)\n",
        "    if not self._is_quantized_input:\n",
        "      input_tensor = (np.float32(input_tensor) - self._mean) / self._std\n",
        "\n",
        "    # Add batch dimension\n",
        "    input_tensor = np.expand_dims(input_tensor, axis=0)\n",
        "\n",
        "    return input_tensor\n",
        "\n",
        "  def _set_input_tensor(self, image):\n",
        "    \"\"\"Sets the input tensor.\"\"\"\n",
        "    tensor_index = self._interpreter.get_input_details()[0]['index']\n",
        "    input_tensor = self._interpreter.tensor(tensor_index)()[0]\n",
        "    input_tensor[:, :] = image\n",
        "\n",
        "  def _get_output_tensor(self, name):\n",
        "    \"\"\"Returns the output tensor at the given index.\"\"\"\n",
        "    output_index = self._output_indices[name]\n",
        "    tensor = np.squeeze(self._interpreter.get_tensor(output_index))\n",
        "    return tensor\n",
        "\n",
        "  def _postprocess(self, boxes: np.ndarray, classes: np.ndarray,\n",
        "                   scores: np.ndarray, count: int, image_width: int,\n",
        "                   image_height: int) -> List[Detection]:\n",
        "    \"\"\"Post-process the output of TFLite model into a list of Detection objects.\n",
        "    Args:\n",
        "        boxes: Bounding boxes of detected objects from the TFLite model.\n",
        "        classes: Class index of the detected objects from the TFLite model.\n",
        "        scores: Confidence scores of the detected objects from the TFLite model.\n",
        "        count: Number of detected objects from the TFLite model.\n",
        "        image_width: Width of the input image.\n",
        "        image_height: Height of the input image.\n",
        "    Returns:\n",
        "        A list of Detection objects detected by the TFLite model.\n",
        "    \"\"\"\n",
        "    results = []\n",
        "\n",
        "    # Parse the model output into a list of Detection entities.\n",
        "    for i in range(count):\n",
        "      if scores[i] >= self._options.score_threshold:\n",
        "        y_min, x_min, y_max, x_max = boxes[i]\n",
        "        bounding_box = Rect(\n",
        "            top=int(y_min * image_height),\n",
        "            left=int(x_min * image_width),\n",
        "            bottom=int(y_max * image_height),\n",
        "            right=int(x_max * image_width))\n",
        "        class_id = int(classes[i])\n",
        "        category = Category(\n",
        "            score=scores[i],\n",
        "            label=self._label_list[class_id],  # 0 is reserved for background\n",
        "            index=class_id)\n",
        "        result = Detection(bounding_box=bounding_box, categories=[category])\n",
        "        results.append(result)\n",
        "\n",
        "    # Sort detection results by score ascending\n",
        "    sorted_results = sorted(\n",
        "        results,\n",
        "        key=lambda detection: detection.categories[0].score,\n",
        "        reverse=True)\n",
        "\n",
        "    # Filter out detections in deny list\n",
        "    filtered_results = sorted_results\n",
        "    if self._options.label_deny_list is not None:\n",
        "      filtered_results = list(\n",
        "          filter(\n",
        "              lambda detection: detection.categories[0].label not in self.\n",
        "              _options.label_deny_list, filtered_results))\n",
        "\n",
        "    # Keep only detections in allow list\n",
        "    if self._options.label_allow_list is not None:\n",
        "      filtered_results = list(\n",
        "          filter(\n",
        "              lambda detection: detection.categories[0].label in self._options.\n",
        "              label_allow_list, filtered_results))\n",
        "\n",
        "    # Only return maximum of max_results detection.\n",
        "    if self._options.max_results > 0:\n",
        "      result_count = min(len(filtered_results), self._options.max_results)\n",
        "      filtered_results = filtered_results[:result_count]\n",
        "\n",
        "    return filtered_results\n",
        "\n",
        "\n",
        "_MARGIN = 10  # pixels\n",
        "_ROW_SIZE = 10  # pixels\n",
        "_FONT_SIZE = 1\n",
        "_FONT_THICKNESS = 1\n",
        "_TEXT_COLOR = (0, 0, 255)  # red\n",
        "\n",
        "\n",
        "def visualize(\n",
        "    image: np.ndarray,\n",
        "    detections: List[Detection],\n",
        ") -> np.ndarray:\n",
        "  \"\"\"Draws bounding boxes on the input image and return it.\n",
        "  Args:\n",
        "    image: The input RGB image.\n",
        "    detections: The list of all \"Detection\" entities to be visualize.\n",
        "  Returns:\n",
        "    Image with bounding boxes.\n",
        "  \"\"\"\n",
        "  for detection in detections:\n",
        "    # Draw bounding_box\n",
        "    start_point = detection.bounding_box.left, detection.bounding_box.top\n",
        "    end_point = detection.bounding_box.right, detection.bounding_box.bottom\n",
        "    cv2.rectangle(image, start_point, end_point, _TEXT_COLOR, 3)\n",
        "\n",
        "    # Draw label and score\n",
        "    category = detection.categories[0]\n",
        "    class_name = category.label\n",
        "    probability = round(category.score, 2)\n",
        "    result_text = class_name + ' (' + str(probability) + ')'\n",
        "    text_location = (_MARGIN + detection.bounding_box.left,\n",
        "                     _MARGIN + _ROW_SIZE + detection.bounding_box.top)\n",
        "    cv2.putText(image, result_text, text_location, cv2.FONT_HERSHEY_PLAIN,\n",
        "                _FONT_SIZE, _TEXT_COLOR, _FONT_THICKNESS)\n",
        "\n",
        "  return image\n",
        "\n",
        "def align(image: np.ndarray, detections: List[Detection]):\n",
        "  hx = image.shape[0]//2\n",
        "  hy = image.shape[1]//2\n",
        "  print(hx, hy)\n",
        "  cv2.circle(image, (hx, hy), 2, (255, 255, 255), 2)\n",
        "  objx = []\n",
        "  cord = []\n",
        "  for detection in detections:\n",
        "    start_point = detection.bounding_box.left, detection.bounding_box.top\n",
        "    end_point = detection.bounding_box.right, detection.bounding_box.bottom\n",
        "    bx = detection.bounding_box.left + ((detection.bounding_box.right - detection.bounding_box.left)//2)\n",
        "    by = detection.bounding_box.top + ((detection.bounding_box.bottom - detection.bounding_box.top)//2)\n",
        "    cord.append((bx, by))\n",
        "    objx.append(bx)\n",
        "  main = objx.index(min(objx))\n",
        "\n",
        "  cv2.circle(image, (cord[main]), 2, (255, 255, 255), 2)\n",
        "  print(cord[main])\n",
        "  if objx[main] < hx:\n",
        "    print(\"Move Left\")\n",
        "  else:\n",
        "    print(\"Move Right\")"
      ],
      "metadata": {
        "id": "qspR8RUax1rs"
      },
      "execution_count": 25,
      "outputs": []
    },
    {
      "cell_type": "code",
      "source": [
        "#@title Run object detection and show the detection results\n",
        "\n",
        "from PIL import Image\n",
        "\n",
        "DETECTION_THRESHOLD = 0.5 #@param {type:\"number\"}\n",
        "TFLITE_MODEL_PATH = \"android.tflite\" #@param {type:\"string\"}\n",
        "\n",
        "TEMP_FILE = '/content/WhatsApp Image 2023-03-25 at 10.34.59 PM.jpeg'\n",
        "\n",
        "!wget -q -O $TEMP_FILE $INPUT_IMAGE_URL\n",
        "image = Image.open(TEMP_FILE).convert('RGB')\n",
        "image.thumbnail((512, 512), Image.ANTIALIAS)\n",
        "image_np = np.asarray(image)\n",
        "\n",
        "# Load the TFLite model\n",
        "options = ObjectDetectorOptions(\n",
        "      num_threads=4,\n",
        "      score_threshold=DETECTION_THRESHOLD,\n",
        ")\n",
        "detector = ObjectDetector(model_path=TFLITE_MODEL_PATH, options=options)\n",
        "\n",
        "# Run object detection estimation using the model.\n",
        "detections = detector.detect(image_np)\n",
        "\n",
        "# Draw keypoints and edges on input image\n",
        "image_np = visualize(image_np, detections)\n",
        "align(image_np, detections)\n",
        "\n",
        "# Show the detection result\n",
        "Image.fromarray(image_np)"
      ],
      "metadata": {
        "colab": {
          "base_uri": "https://localhost:8080/",
          "height": 369
        },
        "id": "aSgDCqxDx3Fy",
        "outputId": "0bb2210d-14b7-4d16-dcb5-a517a5b2e7ab"
      },
      "execution_count": 26,
      "outputs": [
        {
          "output_type": "stream",
          "name": "stdout",
          "text": [
            "wget: option requires an argument -- 'O'\n",
            "Usage: wget [OPTION]... [URL]...\n",
            "\n",
            "Try `wget --help' for more options.\n",
            "115 256\n",
            "(152, 135)\n",
            "Move Right\n"
          ]
        },
        {
          "output_type": "execute_result",
          "data": {
            "text/plain": [
              "<PIL.Image.Image image mode=RGB size=512x231 at 0x7F7B41870850>"
            ],
            "image/png": "[encoded data removed]"
          },
          "metadata": {},
          "execution_count": 26
        }
      ]
    },
    {
      "cell_type": "code",
      "execution_count": null,
      "metadata": {
        "colab": {
          "base_uri": "https://localhost:8080/"
        },
        "id": "kK6AN1xVAsCb",
        "outputId": "0a199dc3-a4df-4b4b-ef2b-b9d88b14cb53"
      },
      "outputs": [
        {
          "name": "stdout",
          "output_type": "stream",
          "text": [
            "  % Total    % Received % Xferd  Average Speed   Time    Time     Time  Current\n",
            "                                 Dload  Upload   Total   Spent    Left  Speed\n",
            "\r  0     0    0     0    0     0      0      0 --:--:-- --:--:-- --:--:--     0\r100  2537  100  2537    0     0  59000      0 --:--:-- --:--:-- --:--:-- 59000\n",
            "OK\n",
            "deb https://packages.cloud.google.com/apt coral-edgetpu-stable main\n",
            "Get:1 http://security.ubuntu.com/ubuntu bionic-security InRelease [88.7 kB]\n",
            "Get:2 https://cloud.r-project.org/bin/linux/ubuntu bionic-cran40/ InRelease [3,626 B]\n",
            "Get:3 http://ppa.launchpad.net/c2d4u.team/c2d4u4.0+/ubuntu bionic InRelease [15.9 kB]\n",
            "Get:4 https://packages.cloud.google.com/apt coral-edgetpu-stable InRelease [6,722 B]\n",
            "Hit:5 http://archive.ubuntu.com/ubuntu bionic InRelease\n",
            "Ign:6 https://developer.download.nvidia.com/compute/cuda/repos/ubuntu1804/x86_64  InRelease\n",
            "Get:7 http://archive.ubuntu.com/ubuntu bionic-updates InRelease [88.7 kB]\n",
            "Get:8 http://security.ubuntu.com/ubuntu bionic-security/main amd64 Packages [2,398 kB]\n",
            "Ign:9 https://developer.download.nvidia.com/compute/machine-learning/repos/ubuntu1804/x86_64  InRelease\n",
            "Get:10 https://developer.download.nvidia.com/compute/cuda/repos/ubuntu1804/x86_64  Release [696 B]\n",
            "Hit:11 https://developer.download.nvidia.com/compute/machine-learning/repos/ubuntu1804/x86_64  Release\n",
            "Get:12 https://developer.download.nvidia.com/compute/cuda/repos/ubuntu1804/x86_64  Release.gpg [836 B]\n",
            "Hit:13 http://ppa.launchpad.net/cran/libgit2/ubuntu bionic InRelease\n",
            "Get:14 https://packages.cloud.google.com/apt coral-edgetpu-stable/main amd64 Packages [2,327 B]\n",
            "Get:15 http://security.ubuntu.com/ubuntu bionic-security/universe amd64 Packages [1,434 kB]\n",
            "Get:16 http://archive.ubuntu.com/ubuntu bionic-backports InRelease [74.6 kB]\n",
            "Hit:17 http://ppa.launchpad.net/deadsnakes/ppa/ubuntu bionic InRelease\n",
            "Get:18 http://ppa.launchpad.net/graphics-drivers/ppa/ubuntu bionic InRelease [21.3 kB]\n",
            "Get:20 https://developer.download.nvidia.com/compute/cuda/repos/ubuntu1804/x86_64  Packages [786 kB]\n",
            "Get:21 http://ppa.launchpad.net/c2d4u.team/c2d4u4.0+/ubuntu bionic/main Sources [1,810 kB]\n",
            "Get:22 http://archive.ubuntu.com/ubuntu bionic-updates/main amd64 Packages [2,835 kB]\n",
            "Get:23 http://archive.ubuntu.com/ubuntu bionic-updates/universe amd64 Packages [2,213 kB]\n",
            "Get:24 http://ppa.launchpad.net/c2d4u.team/c2d4u4.0+/ubuntu bionic/main amd64 Packages [927 kB]\n",
            "Get:25 http://ppa.launchpad.net/graphics-drivers/ppa/ubuntu bionic/main amd64 Packages [44.7 kB]\n",
            "Fetched 12.8 MB in 3s (4,420 kB/s)\n",
            "Reading package lists... Done\n",
            "Reading package lists... Done\n",
            "Building dependency tree       \n",
            "Reading state information... Done\n",
            "The following package was automatically installed and is no longer required:\n",
            "  libnvidia-common-460\n",
            "Use 'sudo apt autoremove' to remove it.\n",
            "The following NEW packages will be installed:\n",
            "  edgetpu-compiler\n",
            "0 upgraded, 1 newly installed, 0 to remove and 61 not upgraded.\n",
            "Need to get 7,913 kB of archives.\n",
            "After this operation, 31.2 MB of additional disk space will be used.\n",
            "Get:1 https://packages.cloud.google.com/apt coral-edgetpu-stable/main amd64 edgetpu-compiler amd64 16.0 [7,913 kB]\n",
            "Fetched 7,913 kB in 0s (20.6 MB/s)\n",
            "debconf: unable to initialize frontend: Dialog\n",
            "debconf: (No usable dialog-like program is installed, so the dialog based frontend cannot be used. at /usr/share/perl5/Debconf/FrontEnd/Dialog.pm line 76, <> line 1.)\n",
            "debconf: falling back to frontend: Readline\n",
            "debconf: unable to initialize frontend: Readline\n",
            "debconf: (This frontend requires a controlling tty.)\n",
            "debconf: falling back to frontend: Teletype\n",
            "dpkg-preconfigure: unable to re-open stdin: \n",
            "Selecting previously unselected package edgetpu-compiler.\n",
            "(Reading database ... 155062 files and directories currently installed.)\n",
            "Preparing to unpack .../edgetpu-compiler_16.0_amd64.deb ...\n",
            "Unpacking edgetpu-compiler (16.0) ...\n",
            "Setting up edgetpu-compiler (16.0) ...\n",
            "Processing triggers for libc-bin (2.27-3ubuntu1.3) ...\n",
            "/sbin/ldconfig.real: /usr/local/lib/python3.7/dist-packages/ideep4py/lib/libmkldnn.so.0 is not a symbolic link\n",
            "\n"
          ]
        }
      ],
      "source": [
        "!curl https://packages.cloud.google.com/apt/doc/apt-key.gpg | sudo apt-key add -\n",
        "!echo \"deb https://packages.cloud.google.com/apt coral-edgetpu-stable main\" | sudo tee /etc/apt/sources.list.d/coral-edgetpu.list\n",
        "!sudo apt-get update\n",
        "!sudo apt-get install edgetpu-compiler"
      ]
    },
    {
      "cell_type": "markdown",
      "metadata": {
        "id": "bIGSdzXkEzrj"
      },
      "source": [
        "**Note:** When training the model using a custom dataset, beware that if your dataset includes more than 20 classes, you'll probably have slower inference speeds compared to if you have fewer classes. This is due to an aspect of the EfficientDet architecture in which a certain layer cannot compile for the Edge TPU when it carries more than 20 classes."
      ]
    },
    {
      "cell_type": "markdown",
      "metadata": {
        "id": "rzF6u0FZTAjF"
      },
      "source": [
        "Before compiling the `.tflite` file for the Edge TPU, it's important to consider whether your model will fit into the Edge TPU memory. \n",
        "\n",
        "The Edge TPU has approximately 8 MB of SRAM for [caching model paramaters](https://coral.ai/docs/edgetpu/compiler/#parameter-data-caching), so any model close to or over 8 MB will not fit onto the Edge TPU memory. That means the inference times are longer, because some model parameters must be fetched from the host system memory.\n",
        "\n",
        "One way to elimiate the extra latency is to use [model pipelining](https://coral.ai/docs/edgetpu/pipeline/), which splits the model into segments that can run on separate Edge TPUs in series. This can significantly reduce the latency for big models.\n",
        "\n",
        "The following table provides recommendations for the number of Edge TPUs to use with each EfficientDet-Lite model.\n",
        "\n",
        "| Model architecture | Minimum TPUs | Recommended TPUs\n",
        "|--------------------|-------|-------|\n",
        "| EfficientDet-Lite0 | 1     | 1     |\n",
        "| EfficientDet-Lite1 | 1     | 1     |\n",
        "| EfficientDet-Lite2 | 1     | 2     |\n",
        "| EfficientDet-Lite3 | 2     | 2     |\n",
        "| EfficientDet-Lite4 | 2     | 3     |\n",
        "\n",
        "If you need extra Edge TPUs for your model, then update `NUMBER_OF_TPUS` here:"
      ]
    },
    {
      "cell_type": "code",
      "execution_count": null,
      "metadata": {
        "colab": {
          "base_uri": "https://localhost:8080/"
        },
        "id": "JyptUjakAwzz",
        "outputId": "7a3dad3b-eeb4-45e1-fb68-f0436ac5a933"
      },
      "outputs": [
        {
          "name": "stdout",
          "output_type": "stream",
          "text": [
            "Edge TPU Compiler version 16.0.384591198\n",
            "Started a compilation timeout timer of 180 seconds.\n",
            "\n",
            "Model compiled successfully in 3127 ms.\n",
            "\n",
            "Input model: android.tflite\n",
            "Input size: 4.22MiB\n",
            "Output model: android_edgetpu.tflite\n",
            "Output size: 5.57MiB\n",
            "On-chip memory used for caching model parameters: 4.21MiB\n",
            "On-chip memory remaining for caching model parameters: 3.29MiB\n",
            "Off-chip memory used for streaming uncached model parameters: 0.00B\n",
            "Number of Edge TPU subgraphs: 1\n",
            "Total number of operations: 267\n",
            "Operation log: android_edgetpu.log\n",
            "\n",
            "Model successfully compiled but not all operations are supported by the Edge TPU. A percentage of the model will instead run on the CPU, which is slower. If possible, consider updating your model to use only operations supported by the Edge TPU. For details, visit g.co/coral/model-reqs.\n",
            "Number of operations that will run on Edge TPU: 264\n",
            "Number of operations that will run on CPU: 3\n",
            "See the operation log file for individual operation details.\n",
            "Compilation child process completed within timeout period.\n",
            "Compilation succeeded! \n"
          ]
        }
      ],
      "source": [
        "NUMBER_OF_TPUS = 1\n",
        "\n",
        "!edgetpu_compiler android.tflite --num_segments=$NUMBER_OF_TPUS"
      ]
    },
    {
      "cell_type": "markdown",
      "metadata": {
        "id": "pJYXucYWTGqZ"
      },
      "source": [
        "Finally, we'll copy the metadata, including the label file, from the original TensorFlow Lite model to the EdgeTPU model."
      ]
    },
    {
      "cell_type": "code",
      "execution_count": null,
      "metadata": {
        "id": "8LY1WrgMJBFd"
      },
      "outputs": [],
      "source": [
        "populator_dst = metadata.MetadataPopulator.with_model_file('android_edgetpu.tflite')\n",
        "\n",
        "with open('android.tflite', 'rb') as f:\n",
        "  populator_dst.load_metadata_and_associated_files(f.read())\n",
        "\n",
        "populator_dst.populate()\n",
        "updated_model_buf = populator_dst.get_model_buffer()"
      ]
    },
    {
      "cell_type": "code",
      "execution_count": null,
      "metadata": {
        "colab": {
          "base_uri": "https://localhost:8080/",
          "height": 17
        },
        "id": "VdRihInCJ3ie",
        "outputId": "f2c37370-6ec3-41e6-903d-22e49e2f7dea"
      },
      "outputs": [
        {
          "data": {
            "application/javascript": "\n    async function download(id, filename, size) {\n      if (!google.colab.kernel.accessAllowed) {\n        return;\n      }\n      const div = document.createElement('div');\n      const label = document.createElement('label');\n      label.textContent = `Downloading \"${filename}\": `;\n      div.appendChild(label);\n      const progress = document.createElement('progress');\n      progress.max = size;\n      div.appendChild(progress);\n      document.body.appendChild(div);\n\n      const buffers = [];\n      let downloaded = 0;\n\n      const channel = await google.colab.kernel.comms.open(id);\n      // Send a message to notify the kernel that we're ready.\n      channel.send({})\n\n      for await (const message of channel.messages) {\n        // Send a message to notify the kernel that we're ready.\n        channel.send({})\n        if (message.buffers) {\n          for (const buffer of message.buffers) {\n            buffers.push(buffer);\n            downloaded += buffer.byteLength;\n            progress.value = downloaded;\n          }\n        }\n      }\n      const blob = new Blob(buffers, {type: 'application/binary'});\n      const a = document.createElement('a');\n      a.href = window.URL.createObjectURL(blob);\n      a.download = filename;\n      div.appendChild(a);\n      a.click();\n      div.remove();\n    }\n  ",
            "text/plain": [
              "<IPython.core.display.Javascript object>"
            ]
          },
          "metadata": {},
          "output_type": "display_data"
        },
        {
          "data": {
            "application/javascript": "download(\"download_f466f03c-e5c8-4a91-a845-258a44b01400\", \"android_edgetpu.tflite\", 5844678)",
            "text/plain": [
              "<IPython.core.display.Javascript object>"
            ]
          },
          "metadata": {},
          "output_type": "display_data"
        }
      ],
      "source": [
        "# Download the TFLite model compiled for EdgeTPU to your local computer.\n",
        "from google.colab import files\n",
        "files.download('android_edgetpu.tflite')"
      ]
    },
    {
      "cell_type": "code",
      "source": [
        "def _postprocess(self, boxes: np.ndarray, classes: np.ndarray,\n",
        "                   scores: np.ndarray, count: int, image_width: int,\n",
        "                   image_height: int) -> List[Detection]:\n",
        "    \"\"\"Post-process the output of TFLite model into a list of Detection objects.\n",
        "    Args:\n",
        "        boxes: Bounding boxes of detected objects from the TFLite model.\n",
        "        classes: Class index of the detected objects from the TFLite model.\n",
        "        scores: Confidence scores of the detected objects from the TFLite model.\n",
        "        count: Number of detected objects from the TFLite model.\n",
        "        image_width: Width of the input image.\n",
        "        image_height: Height of the input image.\n",
        "    Returns:\n",
        "        A list of Detection objects detected by the TFLite model.\n",
        "    \"\"\"\n",
        "    results = []\n",
        "\n",
        "    # Parse the model output into a list of Detection entities.\n",
        "    i = 0\n",
        "    if scores[i] >= self._options.score_threshold:\n",
        "      y_min, x_min, y_max, x_max = boxes[i]\n",
        "      bounding_box = Rect(\n",
        "          top=int(y_min * image_height),\n",
        "          left=int(x_min * image_width),\n",
        "          bottom=int(y_max * image_height),\n",
        "          right=int(x_max * image_width))\n",
        "      class_id = int(classes[i])\n",
        "      category = Category(\n",
        "          score=scores[i],\n",
        "          label=self._label_list[class_id],  # 0 is reserved for background\n",
        "          index=class_id)\n",
        "      result = Detection(bounding_box=bounding_box, categories=[category])\n",
        "      results.append(result)\n",
        "\n",
        "    # Sort detection results by score ascending\n",
        "    sorted_results = sorted(\n",
        "        results,\n",
        "        key=lambda detection: detection.categories[0].score,\n",
        "        reverse=True)\n",
        "\n",
        "    # Filter out detections in deny list\n",
        "    filtered_results = sorted_results\n",
        "    if self._options.label_deny_list is not None:\n",
        "      filtered_results = list(\n",
        "          filter(\n",
        "              lambda detection: detection.categories[0].label not in self.\n",
        "              _options.label_deny_list, filtered_results))\n",
        "\n",
        "    # Keep only detections in allow list\n",
        "    if self._options.label_allow_list is not None:\n",
        "      filtered_results = list(\n",
        "          filter(\n",
        "              lambda detection: detection.categories[0].label in self._options.\n",
        "              label_allow_list, filtered_results))\n",
        "\n",
        "    # Only return maximum of max_results detection.\n",
        "    if self._options.max_results > 0:\n",
        "      result_count = min(len(filtered_results), self._options.max_results)\n",
        "      filtered_results = filtered_results[:result_count]\n",
        "\n",
        "    return filtered_results"
      ],
      "metadata": {
        "id": "hyMiWG87PGQw"
      },
      "execution_count": null,
      "outputs": []
    }
  ],
  "metadata": {
    "accelerator": "GPU",
    "colab": {
      "provenance": []
    },
    "kernelspec": {
      "display_name": "Python 3",
      "name": "python3"
    },
    "language_info": {
      "name": "python"
    },
    "gpuClass": "standard"
  },
  "nbformat": 4,
  "nbformat_minor": 0
}